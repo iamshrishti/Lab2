{
  "nbformat": 4,
  "nbformat_minor": 0,
  "metadata": {
    "colab": {
      "provenance": []
    },
    "kernelspec": {
      "name": "python3",
      "display_name": "Python 3"
    },
    "language_info": {
      "name": "python"
    }
  },
  "cells": [
    {
      "cell_type": "markdown",
      "source": [
        "#**Lab 2: Inferential Statistics in Python**\n",
        "# RPAD 676: Data Science for the Public Good\n",
        "\n",
        "## Author:\n",
        "## Date:"
      ],
      "metadata": {
        "id": "HuqjNuoEddZe"
      }
    },
    {
      "cell_type": "code",
      "source": [
        "# load libraries\n",
        "import numpy as np\n",
        "import pandas as pd\n",
        "import scipy.stats as stats\n",
        "import matplotlib.pyplot as plt\n",
        "import seaborn as sns\n",
        "from sklearn.linear_model import LinearRegression"
      ],
      "metadata": {
        "id": "HCnvgwjidb69"
      },
      "execution_count": null,
      "outputs": []
    },
    {
      "cell_type": "code",
      "source": [
        "# load dataset\n",
        "\n",
        "# Load the CSV file\n",
        "data = pd.read_csv('digital_services_data.csv')"
      ],
      "metadata": {
        "id": "9tzRGDAmdgcy"
      },
      "execution_count": null,
      "outputs": []
    },
    {
      "cell_type": "code",
      "source": [
        "# Display the first few rows of the dataframe"
      ],
      "metadata": {
        "id": "4jnu11dEdjtB"
      },
      "execution_count": null,
      "outputs": []
    },
    {
      "cell_type": "markdown",
      "source": [
        "### Visualize Data"
      ],
      "metadata": {
        "id": "byK4zKOsdnqK"
      }
    },
    {
      "cell_type": "code",
      "source": [
        "# Bar Chart\n",
        "\n",
        "data.groupby('categoricalvariable')['continuousvariable'].mean().sort_values().plot(kind='bar', color='skyblue', figsize=(8,6))\n",
        "plt.xlabel(\"categoricalvariable\")\n",
        "plt.ylabel(\"Continuous Variable \")\n",
        "plt.title(\"Title of Bar Chart\")\n",
        "plt.xticks(rotation=45)\n",
        "plt.show()"
      ],
      "metadata": {
        "id": "tBxMv-1ydlwh"
      },
      "execution_count": null,
      "outputs": []
    },
    {
      "cell_type": "code",
      "source": [
        "# Pie Chart\n",
        "categorical_counts = data['categoricalvariable'].value_counts()\n",
        "categorical_counts.plot(kind='pie', autopct='%1.1f%%', colors=[\"lightblue\", \"lightgreen\", \"coral\"], figsize=(6,6))\n",
        "plt.title(\"Distribution of Categorical Variable\")\n",
        "plt.ylabel(\"\")\n",
        "plt.show()"
      ],
      "metadata": {
        "id": "IBA6IFF0d2Kc"
      },
      "execution_count": null,
      "outputs": []
    },
    {
      "cell_type": "code",
      "source": [
        "# Box plot\n",
        "\n",
        "sns.boxplot(x=data['categoricalvariable'], y=data['continuousvariable'])\n",
        "plt.title(\"Title of Box Plot\")\n",
        "plt.show()"
      ],
      "metadata": {
        "id": "Gpcd7lTfd3i5"
      },
      "execution_count": null,
      "outputs": []
    },
    {
      "cell_type": "markdown",
      "source": [
        "## Calculating Descriptive Statistics"
      ],
      "metadata": {
        "id": "qSYi-ZEfd6am"
      }
    },
    {
      "cell_type": "code",
      "source": [
        "# Descriptive Statistics\n",
        "print(\"Descriptive Statistics for Numeric Variables:\")\n",
        "print(data.describe())"
      ],
      "metadata": {
        "id": "NqiQUaTud8Mw"
      },
      "execution_count": null,
      "outputs": []
    },
    {
      "cell_type": "code",
      "source": [
        "# Frequency Distributions for Categorical Variables\n",
        "\n",
        "print(\"\\nFrequency Distribution for Categorical Variables:\")\n",
        "categorical_cols = data.select_dtypes(include=['object']).columns\n",
        "for col in categorical_cols:\n",
        "    print(f\"\\n{col}:\")\n",
        "    print(data[col].value_counts())"
      ],
      "metadata": {
        "id": "fRTxrxuNd_qY"
      },
      "execution_count": null,
      "outputs": []
    },
    {
      "cell_type": "code",
      "source": [
        "# Calculate the mean of a continuous variable\n",
        "continuous_variable = 'continuousvariable'  # Change variable name as needed\n",
        "mean_value = data[continuous_variable].mean().round(2)\n",
        "print(f\"\\nMean of {continuous_variable}: {mean_value}\")"
      ],
      "metadata": {
        "id": "4a_W-rdIe_0D"
      },
      "execution_count": null,
      "outputs": []
    },
    {
      "cell_type": "code",
      "source": [
        "# Calculate the means of continuous variables across groups\n",
        "grouping_variable = 'categoricalvariable'  # Change to appropriate categorical variable\n",
        "grouped_means = data.groupby(grouping_variable)[numeric_cols].mean().round(2)\n",
        "print(f\"\\nMean values of continuous variables grouped by {grouping_variable}:\")\n",
        "print(grouped_means)"
      ],
      "metadata": {
        "id": "evBSKk1IfEJz"
      },
      "execution_count": null,
      "outputs": []
    },
    {
      "cell_type": "markdown",
      "source": [
        "## Hypothesis Testing"
      ],
      "metadata": {
        "id": "_YcSNcwufPlc"
      }
    },
    {
      "cell_type": "code",
      "source": [
        "import statsmodels.api as sm\n",
        "import statsmodels.formula.api as smf\n",
        "from statsmodels.stats.multicomp import pairwise_tukeyhsd"
      ],
      "metadata": {
        "id": "WdH0ZlH0fRfb"
      },
      "execution_count": null,
      "outputs": []
    },
    {
      "cell_type": "markdown",
      "source": [
        "#### T-Tests - Comparing Means Across Two Groups"
      ],
      "metadata": {
        "id": "xTCW86EnfU1h"
      }
    },
    {
      "cell_type": "code",
      "source": [
        "# Calculate the mean of a specific continuous variable across one categorical variable\n",
        "outcome_variable = 'continuousvariable'  # Change to the variable of interest\n",
        "categorical_variable = 'categoricalvariable'  # Change to the desired categorical variable\n",
        "\n",
        "specific_grouped_means = data.groupby(categorical_variable)[outcome_variable].mean().round(2)\n",
        "\n",
        "print(f\"\\nMean of {outcome_variable} grouped by {categorical_variable}:\")\n",
        "print(specific_grouped_means)"
      ],
      "metadata": {
        "id": "uQ8MSQotfTPZ"
      },
      "execution_count": null,
      "outputs": []
    },
    {
      "cell_type": "code",
      "source": [
        "# T-Test: Comparing means across two groups\n",
        "\n",
        "t_stat, p_val = stats.ttest_ind(\n",
        "    data[data['categoricalvariable'] == 1]['continuousvariable'],\n",
        "    data[data['categoricalvariable'] == 0]['continuousvariable']\n",
        ")\n",
        "print(f\"T-test: Effect of Disability on Time Taken (in Seconds), t-statistic={t_stat:.4f}, p-value={p_val:.4f}\")\n"
      ],
      "metadata": {
        "id": "tm7VXDkIfgMD"
      },
      "execution_count": null,
      "outputs": []
    },
    {
      "cell_type": "markdown",
      "source": [
        "#### ANOVA - Comparing Means Across Three or More Groups"
      ],
      "metadata": {
        "id": "3n3Yx_jcf7_G"
      }
    },
    {
      "cell_type": "code",
      "source": [
        "# Means across more than two groups\n",
        "\n",
        "outcome_variable = 'continuousvariable'  # Change to the variable of interest\n",
        "categorical_variable = 'categoricalvariable'  # Change to the desired categorical variable\n",
        "\n",
        "specific_grouped_means = data.groupby(categorical_variable)[outcome_variable].mean().round(2)\n",
        "print(f\"\\nMean of {outcome_variable} grouped by {categorical_variable}:\")\n",
        "print(specific_grouped_means)"
      ],
      "metadata": {
        "id": "-mAJBzi6f8sq"
      },
      "execution_count": null,
      "outputs": []
    },
    {
      "cell_type": "code",
      "source": [
        "# ANOVA: Comparing time taken across agency types\n",
        "\n",
        "aov = smf.ols(f'{outcome_variable} ~ C({categorical_variable})', data=data).fit()\n",
        "anova_table = sm.stats.anova_lm(aov, typ=2)\n",
        "\n",
        "print(\"\\nANOVA Results:\")\n",
        "print(anova_table)"
      ],
      "metadata": {
        "id": "ilA7Q7P4gGL8"
      },
      "execution_count": null,
      "outputs": []
    },
    {
      "cell_type": "code",
      "source": [
        "# Conduct post hoc test (Tukey HSD) if ANOVA is significant\n",
        "alpha = 0.05\n",
        "if anova_table['PR(>F)'][0] < alpha:\n",
        "    print(\"\\nANOVA is significant. Conducting post hoc Tukey HSD test:\")\n",
        "    tukey_results = pairwise_tukeyhsd(endog=data[outcome_variable], groups=data[categorical_variable], alpha=alpha)\n",
        "    print(tukey_results)\n",
        "else:\n",
        "    print(\"\\nANOVA is not significant. No post hoc test needed.\")\n"
      ],
      "metadata": {
        "id": "7fYyp7upgIsS"
      },
      "execution_count": null,
      "outputs": []
    },
    {
      "cell_type": "markdown",
      "source": [
        "## Regression Analysis"
      ],
      "metadata": {
        "id": "2an1v5y-gLSt"
      }
    },
    {
      "cell_type": "code",
      "source": [
        "import matplotlib.pyplot as plt\n",
        "import seaborn as sns"
      ],
      "metadata": {
        "id": "cYdyjckmgM1G"
      },
      "execution_count": null,
      "outputs": []
    },
    {
      "cell_type": "code",
      "source": [
        "# Simple Linear Regression: Predicting outcome with one predictor\n",
        "X = data[['independentvariable']]\n",
        "y = data['dependentvariable']\n",
        "X = sm.add_constant(X)  # Adds an intercept term\n",
        "model = sm.OLS(y, X).fit()"
      ],
      "metadata": {
        "id": "lCT5wve_gOa7"
      },
      "execution_count": null,
      "outputs": []
    },
    {
      "cell_type": "code",
      "source": [
        "# Display Regression Results in a Nice Table\n",
        "print(\"\\nSimple Linear Regression Results:\")\n",
        "print(model.summary())"
      ],
      "metadata": {
        "id": "_JYYdHOggXD0"
      },
      "execution_count": null,
      "outputs": []
    },
    {
      "cell_type": "code",
      "source": [
        "# Visualizing Regression Results\n",
        "plt.figure(figsize=(8,6))\n",
        "sns.regplot(x=data['independentvariable'], y=data['dependentvariable'], scatter_kws={'alpha':0.5}, line_kws={'color':'red'})\n",
        "plt.xlabel(\"X Label\")\n",
        "plt.ylabel(\"Y Label\")\n",
        "plt.title(\"Plot Title\")\n",
        "plt.show()"
      ],
      "metadata": {
        "id": "q89yvdgEgYnZ"
      },
      "execution_count": null,
      "outputs": []
    },
    {
      "cell_type": "markdown",
      "source": [
        "#### Multiple Regression"
      ],
      "metadata": {
        "id": "CIUk0QlPgiNG"
      }
    },
    {
      "cell_type": "code",
      "source": [
        "# Multiple Linear Regression: Predicting outcome using multiple predictors\n",
        "X = data[['independentvariable','independentvariable']]\n",
        "y = data['dependentvariable']\n",
        "X = sm.add_constant(X)  # Adds an intercept term\n",
        "model = sm.OLS(y, X).fit()"
      ],
      "metadata": {
        "id": "5A64Jn1mgj6z"
      },
      "execution_count": null,
      "outputs": []
    },
    {
      "cell_type": "code",
      "source": [
        "# Display Regression Results in a Nice Table\n",
        "print(\"\\nMultiple Linear Regression Results:\")\n",
        "print(model.summary())"
      ],
      "metadata": {
        "id": "gXpwwg5ogsGN"
      },
      "execution_count": null,
      "outputs": []
    }
  ]
}